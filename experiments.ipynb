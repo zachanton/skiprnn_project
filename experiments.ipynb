{
 "cells": [
  {
   "cell_type": "code",
   "execution_count": 1,
   "metadata": {},
   "outputs": [],
   "source": [
    "from get_datasets import get_data\n",
    "train_dataset, val_dataset, test_dataset, vocab = get_data('SentimentClassifier/')"
   ]
  },
  {
   "cell_type": "code",
   "execution_count": 2,
   "metadata": {},
   "outputs": [],
   "source": [
    "from torch.utils.data import DataLoader\n",
    "\n",
    "def sorted_collate(batch):\n",
    "    x, y = zip(*batch)\n",
    "    order = np.argsort([len(xi) for xi in x])[::-1]\n",
    "    x = [torch.LongTensor(x[i]) for i in order]\n",
    "    y = torch.stack([y[i] for i in order])[:, None]\n",
    "    return x,y\n",
    "\n",
    "train_loader = DataLoader(train_dataset, batch_size=512, shuffle=True, collate_fn=sorted_collate)\n",
    "val_loader = DataLoader(val_dataset, batch_size=1024, shuffle=False, collate_fn=sorted_collate)\n",
    "test_loader = DataLoader(test_dataset, batch_size=1024, shuffle=False, collate_fn=sorted_collate)"
   ]
  },
  {
   "cell_type": "code",
   "execution_count": 3,
   "metadata": {},
   "outputs": [],
   "source": [
    "import torch\n",
    "import numpy as np\n",
    "from torch import nn\n",
    "from skiprnn import SkipGRU\n",
    "import torch.functional as F\n",
    "\n",
    "class IMDbRNN(nn.Module):\n",
    "    def __init__(self, vocab_size, embedding_size, hidden_size, num_classes):\n",
    "        super().__init__()\n",
    "#         self.rnn = nn.GRU(embedding_size, hidden_size)\n",
    "        self.rnn = SkipGRU(embedding_size, hidden_size)\n",
    "        self.cls = nn.Linear(hidden_size, num_classes)\n",
    "        self.emb = nn.Embedding(vocab_size, embedding_size)\n",
    "    \n",
    "    def prepare_sequence(self, x):\n",
    "        l = torch.LongTensor([len(xi) for xi in x])\n",
    "        x = torch.split_with_sizes(self.emb(torch.cat(x).to(self.emb.weight.device)), l.unbind(0))\n",
    "        x = nn.utils.rnn.pad_sequence(x, batch_first=True, padding_value=5)\n",
    "        return x, l\n",
    "    \n",
    "    def forward(self, x):\n",
    "        x, l = self.prepare_sequence(x)\n",
    "        #на данном этапе учим с маской из одних единиц\n",
    "        b = torch.ones(x.shape[:2]).unsqueeze(2).to(self.emb.weight.device)\n",
    "        h,o = self.rnn(x,b,l)\n",
    "        return self.cls(o)"
   ]
  },
  {
   "cell_type": "code",
   "execution_count": 4,
   "metadata": {
    "scrolled": true
   },
   "outputs": [
    {
     "data": {
      "text/plain": [
       "IMDbRNN(\n",
       "  (rnn): SkipGRU(\n",
       "    (layer): SkipGRULayer(\n",
       "      (cell): SkipGRUCell(\n",
       "        (inner_gru): WeakScriptModuleProxy()\n",
       "      )\n",
       "    )\n",
       "  )\n",
       "  (cls): Linear(in_features=16, out_features=1, bias=True)\n",
       "  (emb): Embedding(2000, 32)\n",
       ")"
      ]
     },
     "execution_count": 4,
     "metadata": {},
     "output_type": "execute_result"
    }
   ],
   "source": [
    "device = torch.device('cuda')\n",
    "model = IMDbRNN(2000, 32, 16, 1)\n",
    "model.to(device)"
   ]
  },
  {
   "cell_type": "code",
   "execution_count": null,
   "metadata": {},
   "outputs": [],
   "source": []
  },
  {
   "cell_type": "code",
   "execution_count": null,
   "metadata": {},
   "outputs": [],
   "source": []
  },
  {
   "cell_type": "code",
   "execution_count": null,
   "metadata": {},
   "outputs": [],
   "source": []
  },
  {
   "cell_type": "code",
   "execution_count": 5,
   "metadata": {},
   "outputs": [],
   "source": [
    "import torch\n",
    "import torch.nn as nn\n",
    "from catalyst.dl import SupervisedRunner\n",
    "from catalyst.dl.callbacks import AUCCallback, F1ScoreCallback, CheckpointCallback, CriterionCallback, CriterionAggregatorCallback"
   ]
  },
  {
   "cell_type": "code",
   "execution_count": null,
   "metadata": {},
   "outputs": [],
   "source": [
    "num_epochs = 100\n",
    "logdir = \"./logs/exp3\"\n",
    "loaders = {\n",
    "    \"train\": train_loader,\n",
    "    \"valid\": val_loader\n",
    "}\n",
    "\n",
    "criterion = {\n",
    "   \"bce\": nn.BCEWithLogitsLoss()\n",
    "}\n",
    "\n",
    "optimizer = torch.optim.Adam([\n",
    "    {'params': model.parameters(), 'lr': 3e-4}])\n",
    "\n",
    "\n",
    "scheduler = torch.optim.lr_scheduler.ReduceLROnPlateau(optimizer, factor=0.9, patience=4)\n",
    "\n",
    "runner = SupervisedRunner()"
   ]
  },
  {
   "cell_type": "code",
   "execution_count": null,
   "metadata": {
    "scrolled": true
   },
   "outputs": [],
   "source": [
    "runner.train(\n",
    "    model=model,\n",
    "    criterion=criterion,\n",
    "    scheduler=scheduler,\n",
    "    callbacks=[   \n",
    "               CriterionCallback(prefix=\"loss_bce\",\n",
    "                     criterion_key='bce', multiplier=1.),\n",
    "               CriterionAggregatorCallback(prefix=\"loss\",loss_keys=['loss_bce']),\n",
    "               AUCCallback(num_classes=1), \n",
    "                F1ScoreCallback(),\n",
    "               CheckpointCallback(save_n_best=3)\n",
    "                ],\n",
    "\n",
    "    optimizer=optimizer,\n",
    "    main_metric='auc/_mean',\n",
    "    minimize_metric=False,\n",
    "    loaders=loaders,\n",
    "    logdir=logdir,\n",
    "    num_epochs=num_epochs,\n",
    "#     fp16={\"opt_level\": \"O1\"},\n",
    "    verbose=False\n",
    ")"
   ]
  },
  {
   "cell_type": "code",
   "execution_count": null,
   "metadata": {},
   "outputs": [],
   "source": []
  },
  {
   "cell_type": "code",
   "execution_count": null,
   "metadata": {},
   "outputs": [],
   "source": []
  },
  {
   "cell_type": "code",
   "execution_count": 6,
   "metadata": {},
   "outputs": [
    {
     "data": {
      "text/plain": [
       "<All keys matched successfully>"
      ]
     },
     "execution_count": 6,
     "metadata": {},
     "output_type": "execute_result"
    }
   ],
   "source": [
    "state = torch.load(\"logs/exp3/checkpoints/best.pth\",map_location='cpu')\n",
    "\n",
    "model.load_state_dict(state['model_state_dict'])"
   ]
  },
  {
   "cell_type": "code",
   "execution_count": 7,
   "metadata": {},
   "outputs": [
    {
     "data": {
      "text/plain": [
       "IMDbRNN(\n",
       "  (rnn): SkipGRU(\n",
       "    (layer): SkipGRULayer(\n",
       "      (cell): SkipGRUCell(\n",
       "        (inner_gru): WeakScriptModuleProxy()\n",
       "      )\n",
       "    )\n",
       "  )\n",
       "  (cls): Linear(in_features=16, out_features=1, bias=True)\n",
       "  (emb): Embedding(2000, 32)\n",
       ")"
      ]
     },
     "execution_count": 7,
     "metadata": {},
     "output_type": "execute_result"
    }
   ],
   "source": [
    "model.eval()"
   ]
  },
  {
   "cell_type": "code",
   "execution_count": 8,
   "metadata": {
    "scrolled": true
   },
   "outputs": [
    {
     "name": "stderr",
     "output_type": "stream",
     "text": [
      "100%|██████████| 25/25 [00:05<00:00,  4.54it/s]\n"
     ]
    }
   ],
   "source": [
    "import numpy as np\n",
    "from tqdm import tqdm\n",
    "\n",
    "predictions, labels = [], []\n",
    "with torch.no_grad():\n",
    "    for x,y in tqdm(test_loader):\n",
    "        predictions.append(model(x).detach().cpu().numpy())\n",
    "        labels.append(y.detach().cpu().numpy())\n",
    "predictions = np.concatenate(predictions)\n",
    "labels = np.concatenate(labels)"
   ]
  },
  {
   "cell_type": "code",
   "execution_count": 9,
   "metadata": {},
   "outputs": [
    {
     "data": {
      "text/plain": [
       "0.9095062592"
      ]
     },
     "execution_count": 9,
     "metadata": {},
     "output_type": "execute_result"
    }
   ],
   "source": [
    "from sklearn.metrics import roc_auc_score\n",
    "\n",
    "roc_auc_score(labels, predictions)"
   ]
  },
  {
   "cell_type": "code",
   "execution_count": null,
   "metadata": {},
   "outputs": [],
   "source": []
  },
  {
   "cell_type": "code",
   "execution_count": null,
   "metadata": {},
   "outputs": [],
   "source": []
  },
  {
   "cell_type": "code",
   "execution_count": null,
   "metadata": {},
   "outputs": [],
   "source": []
  },
  {
   "cell_type": "code",
   "execution_count": 19,
   "metadata": {},
   "outputs": [],
   "source": [
    "from binarizers import HintonBinarizer"
   ]
  },
  {
   "cell_type": "code",
   "execution_count": 20,
   "metadata": {},
   "outputs": [],
   "source": [
    "hb = HintonBinarizer()"
   ]
  },
  {
   "cell_type": "code",
   "execution_count": 21,
   "metadata": {},
   "outputs": [],
   "source": [
    "for x,y in train_loader:\n",
    "    break"
   ]
  },
  {
   "cell_type": "markdown",
   "metadata": {},
   "source": [
    "Запускаем для предложения x[0]"
   ]
  },
  {
   "cell_type": "code",
   "execution_count": 22,
   "metadata": {},
   "outputs": [
    {
     "data": {
      "text/plain": [
       "torch.Size([1177])"
      ]
     },
     "execution_count": 22,
     "metadata": {},
     "output_type": "execute_result"
    }
   ],
   "source": [
    "x[0].shape"
   ]
  },
  {
   "cell_type": "code",
   "execution_count": 23,
   "metadata": {},
   "outputs": [],
   "source": [
    "from torch.autograd import Variable\n",
    "\n",
    "\n",
    "class IMDbRNN_bin(nn.Module):\n",
    "    def __init__(self, sent_size):\n",
    "        super().__init__()\n",
    "#         self.rnn = nn.GRU(embedding_size, hidden_size)\n",
    "        self.rnn = model.rnn\n",
    "        self.cls = model.cls\n",
    "        self.emb = model.emb\n",
    "        \n",
    "        self.u = Variable(torch.randn(1,sent_size,1), requires_grad=True)\n",
    "    \n",
    "    def prepare_sequence(self, x):\n",
    "        l = torch.LongTensor([len(xi) for xi in x])\n",
    "        x = torch.split_with_sizes(self.emb(torch.cat(x).to(self.emb.weight.device)), l.unbind(0))\n",
    "        x = nn.utils.rnn.pad_sequence(x, batch_first=True, padding_value=5)\n",
    "        return x, l\n",
    "    \n",
    "    def forward(self, x):\n",
    "#         print(x.shape,x[0].shape)\n",
    "        \n",
    "        x = [i for i in x]\n",
    "        x, l = self.prepare_sequence(x)\n",
    "        \n",
    "        #считаем с единичной маской\n",
    "        b = torch.ones(x.shape[:2]).unsqueeze(2).to(self.emb.weight.device)\n",
    "        h,o = self.rnn(x,b,l)\n",
    "        \n",
    "        #считаем с бинаризованной маской u\n",
    "        b_new = torch.repeat_interleave(hb(self.u), repeats=len(x), dim=0).to(self.emb.weight.device)\n",
    "        h_new,o_new = self.rnn(x,b_new,l)\n",
    "        \n",
    "        #расстояние между выходами сети на полном и прореженом предложении\n",
    "        dist = ((o-o_new)**2).sum(1)\n",
    "        \n",
    "        #среднее значение бинарной маски\n",
    "        mean = b_new.squeeze(2).mean(1)\n",
    "        \n",
    "        #финальное предсказание класса на прореженом сообщении\n",
    "        target = self.cls(o_new)\n",
    "        \n",
    "        return {'cls': target, 'dist': dist, 'mean': mean}"
   ]
  },
  {
   "cell_type": "code",
   "execution_count": 24,
   "metadata": {},
   "outputs": [],
   "source": [
    "model_bin = IMDbRNN_bin(x[0].shape[0])"
   ]
  },
  {
   "cell_type": "code",
   "execution_count": null,
   "metadata": {},
   "outputs": [],
   "source": []
  },
  {
   "cell_type": "markdown",
   "metadata": {},
   "source": [
    "Делаем датасет из предложения x[0] размножив его несколько раз"
   ]
  },
  {
   "cell_type": "code",
   "execution_count": 25,
   "metadata": {},
   "outputs": [],
   "source": [
    "from torch.utils.data import Dataset as BaseDataset\n",
    "\n",
    "class Dataset(BaseDataset):\n",
    "\n",
    "    \n",
    "    def __init__(\n",
    "            self, x, y, idx\n",
    "    ):\n",
    "        \n",
    "        self.x = x\n",
    "        self.y = y\n",
    "        self.idx = idx\n",
    "    \n",
    "    def __getitem__(self, idx):\n",
    "\n",
    "        return {'features': self.x[self.idx], 'target_cls':self.y[self.idx],\n",
    "                'target_dist': torch.tensor(0).float(), 'target_mean': torch.tensor(0).float()}\n",
    "        \n",
    "    def __len__(self):\n",
    "        return 8\n",
    "\n",
    "\n",
    "new_train_loader = DataLoader(Dataset(x,y,0), shuffle=True, batch_size=2)\n",
    "new_val_loader = DataLoader(Dataset(x,y,0), shuffle=True, batch_size=2)\n"
   ]
  },
  {
   "cell_type": "code",
   "execution_count": null,
   "metadata": {},
   "outputs": [],
   "source": []
  },
  {
   "cell_type": "code",
   "execution_count": 26,
   "metadata": {},
   "outputs": [],
   "source": [
    "num_epochs = 100  # change me\n",
    "logdir = \"./logs/exp5\"\n",
    "loaders = {\n",
    "    \"train\": new_train_loader,\n",
    "    \"valid\": new_val_loader\n",
    "}\n",
    "\n",
    "criterion = {\n",
    "   \"mse\": nn.MSELoss()\n",
    "}\n",
    "\n",
    "optimizer = torch.optim.Adam([\n",
    "    {'params': model_bin.u, 'lr': 3e-3}])\n",
    "\n",
    "\n",
    "scheduler = torch.optim.lr_scheduler.ReduceLROnPlateau(optimizer, factor=0.9, patience=4)\n",
    "\n",
    "runner = SupervisedRunner(input_target_key=None,output_key=None)"
   ]
  },
  {
   "cell_type": "code",
   "execution_count": 27,
   "metadata": {
    "scrolled": true
   },
   "outputs": [
    {
     "data": {
      "application/javascript": [
       "IPython.notebook.save_checkpoint();"
      ],
      "text/plain": [
       "<IPython.core.display.Javascript object>"
      ]
     },
     "metadata": {},
     "output_type": "display_data"
    },
    {
     "data": {
      "application/javascript": [
       "IPython.notebook.save_checkpoint();"
      ],
      "text/plain": [
       "<IPython.core.display.Javascript object>"
      ]
     },
     "metadata": {},
     "output_type": "display_data"
    },
    {
     "name": "stdout",
     "output_type": "stream",
     "text": [
      "[2019-11-30 08:06:19,608] \n",
      "1/100 * Epoch 1 (train): _base/lr=0.0010 | _base/momentum=0.9000 | _timers/_fps=4.0977 | _timers/batch_time=0.4887 | _timers/data_time=0.0005 | _timers/model_time=0.4881 | f1_score=0.9710 | loss=0.6808 | loss_dist=0.6346 | loss_mean=0.0462\n",
      "1/100 * Epoch 1 (valid): _base/lr=0.0010 | _base/momentum=0.9000 | _timers/_fps=5.4131 | _timers/batch_time=0.3700 | _timers/data_time=0.0005 | _timers/model_time=0.3695 | f1_score=0.9707 | loss=0.6976 | loss_dist=0.6551 | loss_mean=0.0425\n",
      "[2019-11-30 08:06:26,372] \n",
      "2/100 * Epoch 2 (train): _base/lr=0.0300 | _base/momentum=0.9000 | _timers/_fps=4.1446 | _timers/batch_time=0.4830 | _timers/data_time=0.0007 | _timers/model_time=0.4822 | f1_score=0.9534 | loss=1.4232 | loss_dist=1.3844 | loss_mean=0.0389\n",
      "2/100 * Epoch 2 (valid): _base/lr=0.0300 | _base/momentum=0.9000 | _timers/_fps=5.4132 | _timers/batch_time=0.3701 | _timers/data_time=0.0005 | _timers/model_time=0.3696 | f1_score=0.9434 | loss=0.4975 | loss_dist=0.4639 | loss_mean=0.0336\n",
      "[2019-11-30 08:06:33,108] \n",
      "3/100 * Epoch 3 (train): _base/lr=0.0300 | _base/momentum=0.9000 | _timers/_fps=4.1446 | _timers/batch_time=0.4830 | _timers/data_time=0.0007 | _timers/model_time=0.4823 | f1_score=0.8722 | loss=0.9311 | loss_dist=0.9003 | loss_mean=0.0308\n",
      "3/100 * Epoch 3 (valid): _base/lr=0.0300 | _base/momentum=0.9000 | _timers/_fps=5.4114 | _timers/batch_time=0.3701 | _timers/data_time=0.0005 | _timers/model_time=0.3696 | f1_score=0.8574 | loss=0.3997 | loss_dist=0.3712 | loss_mean=0.0285\n",
      "[2019-11-30 08:06:39,858] \n",
      "4/100 * Epoch 4 (train): _base/lr=0.0300 | _base/momentum=0.9000 | _timers/_fps=4.1363 | _timers/batch_time=0.4839 | _timers/data_time=0.0007 | _timers/model_time=0.4832 | f1_score=0.8782 | loss=0.3028 | loss_dist=0.2754 | loss_mean=0.0275\n",
      "4/100 * Epoch 4 (valid): _base/lr=0.0300 | _base/momentum=0.9000 | _timers/_fps=5.3774 | _timers/batch_time=0.3724 | _timers/data_time=0.0005 | _timers/model_time=0.3719 | f1_score=0.9373 | loss=0.1038 | loss_dist=0.0788 | loss_mean=0.0250\n",
      "[2019-11-30 08:06:46,608] \n",
      "5/100 * Epoch 5 (train): _base/lr=0.0300 | _base/momentum=0.9000 | _timers/_fps=4.1296 | _timers/batch_time=0.4847 | _timers/data_time=0.0007 | _timers/model_time=0.4840 | f1_score=0.9356 | loss=0.0904 | loss_dist=0.0668 | loss_mean=0.0236\n",
      "5/100 * Epoch 5 (valid): _base/lr=0.0300 | _base/momentum=0.9000 | _timers/_fps=5.4067 | _timers/batch_time=0.3705 | _timers/data_time=0.0005 | _timers/model_time=0.3700 | f1_score=0.9455 | loss=0.0458 | loss_dist=0.0246 | loss_mean=0.0211\n",
      "[2019-11-30 08:06:53,373] \n",
      "6/100 * Epoch 6 (train): _base/lr=0.0300 | _base/momentum=0.9000 | _timers/_fps=4.1416 | _timers/batch_time=0.4834 | _timers/data_time=0.0007 | _timers/model_time=0.4827 | f1_score=0.9459 | loss=0.0452 | loss_dist=0.0247 | loss_mean=0.0204\n",
      "6/100 * Epoch 6 (valid): _base/lr=0.0300 | _base/momentum=0.9000 | _timers/_fps=5.3783 | _timers/batch_time=0.3727 | _timers/data_time=0.0005 | _timers/model_time=0.3721 | f1_score=0.9372 | loss=0.0354 | loss_dist=0.0146 | loss_mean=0.0208\n",
      "[2019-11-30 08:07:00,124] \n",
      "7/100 * Epoch 7 (train): _base/lr=0.0300 | _base/momentum=0.9000 | _timers/_fps=4.1325 | _timers/batch_time=0.4844 | _timers/data_time=0.0006 | _timers/model_time=0.4838 | f1_score=0.9416 | loss=0.0366 | loss_dist=0.0164 | loss_mean=0.0203\n",
      "7/100 * Epoch 7 (valid): _base/lr=0.0300 | _base/momentum=0.9000 | _timers/_fps=5.3989 | _timers/batch_time=0.3709 | _timers/data_time=0.0005 | _timers/model_time=0.3704 | f1_score=0.9588 | loss=0.0458 | loss_dist=0.0262 | loss_mean=0.0196\n",
      "[2019-11-30 08:07:06,918] \n",
      "8/100 * Epoch 8 (train): _base/lr=0.0300 | _base/momentum=0.9000 | _timers/_fps=4.1244 | _timers/batch_time=0.4854 | _timers/data_time=0.0006 | _timers/model_time=0.4848 | f1_score=0.9634 | loss=0.0640 | loss_dist=0.0443 | loss_mean=0.0197\n",
      "8/100 * Epoch 8 (valid): _base/lr=0.0300 | _base/momentum=0.9000 | _timers/_fps=5.3982 | _timers/batch_time=0.3711 | _timers/data_time=0.0005 | _timers/model_time=0.3706 | f1_score=0.9744 | loss=0.1672 | loss_dist=0.1481 | loss_mean=0.0191\n",
      "[2019-11-30 08:07:13,669] \n",
      "9/100 * Epoch 9 (train): _base/lr=0.0300 | _base/momentum=0.9000 | _timers/_fps=4.1292 | _timers/batch_time=0.4847 | _timers/data_time=0.0006 | _timers/model_time=0.4840 | f1_score=0.9770 | loss=0.2353 | loss_dist=0.2167 | loss_mean=0.0186\n",
      "9/100 * Epoch 9 (valid): _base/lr=0.0300 | _base/momentum=0.9000 | _timers/_fps=5.4000 | _timers/batch_time=0.3709 | _timers/data_time=0.0005 | _timers/model_time=0.3704 | f1_score=0.9799 | loss=0.3162 | loss_dist=0.2984 | loss_mean=0.0178\n",
      "[2019-11-30 08:07:20,443] \n",
      "10/100 * Epoch 10 (train): _base/lr=0.0300 | _base/momentum=0.9000 | _timers/_fps=4.1287 | _timers/batch_time=0.4848 | _timers/data_time=0.0007 | _timers/model_time=0.4841 | f1_score=0.9789 | loss=0.2824 | loss_dist=0.2645 | loss_mean=0.0178\n",
      "10/100 * Epoch 10 (valid): _base/lr=0.0300 | _base/momentum=0.9000 | _timers/_fps=5.3760 | _timers/batch_time=0.3726 | _timers/data_time=0.0005 | _timers/model_time=0.3721 | f1_score=0.9739 | loss=0.1177 | loss_dist=0.1003 | loss_mean=0.0175\n",
      "[2019-11-30 08:07:27,109] \n",
      "11/100 * Epoch 11 (train): _base/lr=0.0300 | _base/momentum=0.9000 | _timers/_fps=4.2583 | _timers/batch_time=0.4700 | _timers/data_time=0.0007 | _timers/model_time=0.4692 | f1_score=0.9745 | loss=0.1275 | loss_dist=0.1097 | loss_mean=0.0178\n",
      "11/100 * Epoch 11 (valid): _base/lr=0.0300 | _base/momentum=0.9000 | _timers/_fps=5.5138 | _timers/batch_time=0.3632 | _timers/data_time=0.0005 | _timers/model_time=0.3626 | f1_score=0.9755 | loss=0.1438 | loss_dist=0.1256 | loss_mean=0.0181\n",
      "[2019-11-30 08:07:33,886] \n",
      "12/100 * Epoch 12 (train): _base/lr=0.0270 | _base/momentum=0.9000 | _timers/_fps=4.2182 | _timers/batch_time=0.4746 | _timers/data_time=0.0006 | _timers/model_time=0.4739 | f1_score=0.9758 | loss=0.1497 | loss_dist=0.1316 | loss_mean=0.0181\n",
      "12/100 * Epoch 12 (valid): _base/lr=0.0270 | _base/momentum=0.9000 | _timers/_fps=5.5240 | _timers/batch_time=0.3626 | _timers/data_time=0.0005 | _timers/model_time=0.3620 | f1_score=0.9761 | loss=0.1553 | loss_dist=0.1370 | loss_mean=0.0183\n",
      "[2019-11-30 08:07:40,666] \n",
      "13/100 * Epoch 13 (train): _base/lr=0.0270 | _base/momentum=0.9000 | _timers/_fps=4.2213 | _timers/batch_time=0.4741 | _timers/data_time=0.0007 | _timers/model_time=0.4734 | f1_score=0.9762 | loss=0.1575 | loss_dist=0.1395 | loss_mean=0.0179\n",
      "13/100 * Epoch 13 (valid): _base/lr=0.0270 | _base/momentum=0.9000 | _timers/_fps=5.5047 | _timers/batch_time=0.3638 | _timers/data_time=0.0005 | _timers/model_time=0.3632 | f1_score=0.9762 | loss=0.1580 | loss_dist=0.1403 | loss_mean=0.0176\n",
      "[2019-11-30 08:07:47,433] \n",
      "14/100 * Epoch 14 (train): _base/lr=0.0270 | _base/momentum=0.9000 | _timers/_fps=4.2204 | _timers/batch_time=0.4742 | _timers/data_time=0.0007 | _timers/model_time=0.4735 | f1_score=0.9732 | loss=0.1359 | loss_dist=0.1180 | loss_mean=0.0179\n",
      "14/100 * Epoch 14 (valid): _base/lr=0.0270 | _base/momentum=0.9000 | _timers/_fps=5.5203 | _timers/batch_time=0.3630 | _timers/data_time=0.0005 | _timers/model_time=0.3624 | f1_score=0.9703 | loss=0.1150 | loss_dist=0.0969 | loss_mean=0.0181\n",
      "[2019-11-30 08:07:54,192] \n",
      "15/100 * Epoch 15 (train): _base/lr=0.0270 | _base/momentum=0.9000 | _timers/_fps=4.2243 | _timers/batch_time=0.4739 | _timers/data_time=0.0006 | _timers/model_time=0.4733 | f1_score=0.9701 | loss=0.1159 | loss_dist=0.0973 | loss_mean=0.0186\n",
      "15/100 * Epoch 15 (valid): _base/lr=0.0270 | _base/momentum=0.9000 | _timers/_fps=5.5329 | _timers/batch_time=0.3620 | _timers/data_time=0.0005 | _timers/model_time=0.3615 | f1_score=0.9694 | loss=0.1178 | loss_dist=0.0987 | loss_mean=0.0191\n",
      "[2019-11-30 08:08:00,982] \n",
      "16/100 * Epoch 16 (train): _base/lr=0.0270 | _base/momentum=0.9000 | _timers/_fps=4.1994 | _timers/batch_time=0.4768 | _timers/data_time=0.0006 | _timers/model_time=0.4761 | f1_score=0.9689 | loss=0.1129 | loss_dist=0.0934 | loss_mean=0.0195\n",
      "16/100 * Epoch 16 (valid): _base/lr=0.0270 | _base/momentum=0.9000 | _timers/_fps=5.4968 | _timers/batch_time=0.3646 | _timers/data_time=0.0005 | _timers/model_time=0.3641 | f1_score=0.9686 | loss=0.1088 | loss_dist=0.0892 | loss_mean=0.0196\n",
      "[2019-11-30 08:08:07,753] \n",
      "17/100 * Epoch 17 (train): _base/lr=0.0243 | _base/momentum=0.9000 | _timers/_fps=4.2217 | _timers/batch_time=0.4742 | _timers/data_time=0.0007 | _timers/model_time=0.4735 | f1_score=0.9686 | loss=0.1085 | loss_dist=0.0892 | loss_mean=0.0193\n",
      "17/100 * Epoch 17 (valid): _base/lr=0.0243 | _base/momentum=0.9000 | _timers/_fps=5.5304 | _timers/batch_time=0.3621 | _timers/data_time=0.0005 | _timers/model_time=0.3616 | f1_score=0.9686 | loss=0.1088 | loss_dist=0.0892 | loss_mean=0.0196\n"
     ]
    },
    {
     "name": "stdout",
     "output_type": "stream",
     "text": [
      "[2019-11-30 08:08:14,535] \n",
      "18/100 * Epoch 18 (train): _base/lr=0.0243 | _base/momentum=0.9000 | _timers/_fps=4.2309 | _timers/batch_time=0.4731 | _timers/data_time=0.0006 | _timers/model_time=0.4725 | f1_score=0.9686 | loss=0.1090 | loss_dist=0.0892 | loss_mean=0.0198\n",
      "18/100 * Epoch 18 (valid): _base/lr=0.0243 | _base/momentum=0.9000 | _timers/_fps=5.4747 | _timers/batch_time=0.3661 | _timers/data_time=0.0005 | _timers/model_time=0.3655 | f1_score=0.9686 | loss=0.1093 | loss_dist=0.0892 | loss_mean=0.0201\n",
      "[2019-11-30 08:08:21,317] \n",
      "19/100 * Epoch 19 (train): _base/lr=0.0243 | _base/momentum=0.9000 | _timers/_fps=4.2296 | _timers/batch_time=0.4733 | _timers/data_time=0.0007 | _timers/model_time=0.4726 | f1_score=0.9686 | loss=0.1095 | loss_dist=0.0894 | loss_mean=0.0201\n",
      "19/100 * Epoch 19 (valid): _base/lr=0.0243 | _base/momentum=0.9000 | _timers/_fps=5.5353 | _timers/batch_time=0.3618 | _timers/data_time=0.0006 | _timers/model_time=0.3612 | f1_score=0.9687 | loss=0.1104 | loss_dist=0.0900 | loss_mean=0.0204\n",
      "[2019-11-30 08:08:28,100] \n",
      "20/100 * Epoch 20 (train): _base/lr=0.0243 | _base/momentum=0.9000 | _timers/_fps=4.2115 | _timers/batch_time=0.4753 | _timers/data_time=0.0006 | _timers/model_time=0.4747 | f1_score=0.9659 | loss=0.0927 | loss_dist=0.0723 | loss_mean=0.0205\n",
      "20/100 * Epoch 20 (valid): _base/lr=0.0243 | _base/momentum=0.9000 | _timers/_fps=5.5348 | _timers/batch_time=0.3618 | _timers/data_time=0.0005 | _timers/model_time=0.3614 | f1_score=0.9648 | loss=0.0856 | loss_dist=0.0653 | loss_mean=0.0203\n",
      "[2019-11-30 08:08:34,883] \n",
      "21/100 * Epoch 21 (train): _base/lr=0.0243 | _base/momentum=0.9000 | _timers/_fps=4.2279 | _timers/batch_time=0.4735 | _timers/data_time=0.0006 | _timers/model_time=0.4728 | f1_score=0.9648 | loss=0.0855 | loss_dist=0.0654 | loss_mean=0.0201\n",
      "21/100 * Epoch 21 (valid): _base/lr=0.0243 | _base/momentum=0.9000 | _timers/_fps=5.5019 | _timers/batch_time=0.3642 | _timers/data_time=0.0005 | _timers/model_time=0.3636 | f1_score=0.9649 | loss=0.0859 | loss_dist=0.0656 | loss_mean=0.0203\n",
      "[2019-11-30 08:08:41,647] \n",
      "22/100 * Epoch 22 (train): _base/lr=0.0219 | _base/momentum=0.9000 | _timers/_fps=4.2300 | _timers/batch_time=0.4732 | _timers/data_time=0.0006 | _timers/model_time=0.4725 | f1_score=0.9648 | loss=0.0861 | loss_dist=0.0654 | loss_mean=0.0207\n",
      "22/100 * Epoch 22 (valid): _base/lr=0.0219 | _base/momentum=0.9000 | _timers/_fps=5.5429 | _timers/batch_time=0.3614 | _timers/data_time=0.0005 | _timers/model_time=0.3608 | f1_score=0.9647 | loss=0.0859 | loss_dist=0.0647 | loss_mean=0.0211\n",
      "[2019-11-30 08:08:48,410] \n",
      "23/100 * Epoch 23 (train): _base/lr=0.0219 | _base/momentum=0.9000 | _timers/_fps=4.2372 | _timers/batch_time=0.4724 | _timers/data_time=0.0006 | _timers/model_time=0.4717 | f1_score=0.9648 | loss=0.0857 | loss_dist=0.0648 | loss_mean=0.0209\n",
      "23/100 * Epoch 23 (valid): _base/lr=0.0219 | _base/momentum=0.9000 | _timers/_fps=5.4946 | _timers/batch_time=0.3645 | _timers/data_time=0.0005 | _timers/model_time=0.3639 | f1_score=0.9648 | loss=0.0855 | loss_dist=0.0649 | loss_mean=0.0206\n",
      "[2019-11-30 08:08:55,171] \n",
      "24/100 * Epoch 24 (train): _base/lr=0.0219 | _base/momentum=0.9000 | _timers/_fps=4.2369 | _timers/batch_time=0.4725 | _timers/data_time=0.0006 | _timers/model_time=0.4718 | f1_score=0.9648 | loss=0.0852 | loss_dist=0.0649 | loss_mean=0.0203\n",
      "24/100 * Epoch 24 (valid): _base/lr=0.0219 | _base/momentum=0.9000 | _timers/_fps=5.5198 | _timers/batch_time=0.3630 | _timers/data_time=0.0005 | _timers/model_time=0.3624 | f1_score=0.9648 | loss=0.0847 | loss_dist=0.0649 | loss_mean=0.0198\n",
      "[2019-11-30 08:09:01,945] \n",
      "25/100 * Epoch 25 (train): _base/lr=0.0219 | _base/momentum=0.9000 | _timers/_fps=4.2293 | _timers/batch_time=0.4733 | _timers/data_time=0.0006 | _timers/model_time=0.4727 | f1_score=0.9648 | loss=0.0848 | loss_dist=0.0649 | loss_mean=0.0199\n",
      "25/100 * Epoch 25 (valid): _base/lr=0.0219 | _base/momentum=0.9000 | _timers/_fps=5.5099 | _timers/batch_time=0.3635 | _timers/data_time=0.0005 | _timers/model_time=0.3630 | f1_score=0.9648 | loss=0.0853 | loss_dist=0.0650 | loss_mean=0.0203\n",
      "[2019-11-30 08:09:08,729] \n",
      "26/100 * Epoch 26 (train): _base/lr=0.0219 | _base/momentum=0.9000 | _timers/_fps=4.1997 | _timers/batch_time=0.4767 | _timers/data_time=0.0006 | _timers/model_time=0.4761 | f1_score=0.9648 | loss=0.0856 | loss_dist=0.0650 | loss_mean=0.0206\n",
      "26/100 * Epoch 26 (valid): _base/lr=0.0219 | _base/momentum=0.9000 | _timers/_fps=5.5224 | _timers/batch_time=0.3627 | _timers/data_time=0.0005 | _timers/model_time=0.3621 | f1_score=0.9648 | loss=0.0858 | loss_dist=0.0650 | loss_mean=0.0208\n",
      "[2019-11-30 08:09:15,497] \n",
      "27/100 * Epoch 27 (train): _base/lr=0.0197 | _base/momentum=0.9000 | _timers/_fps=4.2212 | _timers/batch_time=0.4743 | _timers/data_time=0.0006 | _timers/model_time=0.4736 | f1_score=0.9648 | loss=0.0859 | loss_dist=0.0650 | loss_mean=0.0209\n",
      "27/100 * Epoch 27 (valid): _base/lr=0.0197 | _base/momentum=0.9000 | _timers/_fps=5.5417 | _timers/batch_time=0.3615 | _timers/data_time=0.0005 | _timers/model_time=0.3610 | f1_score=0.9648 | loss=0.0862 | loss_dist=0.0651 | loss_mean=0.0211\n",
      "[2019-11-30 08:09:22,280] \n",
      "28/100 * Epoch 28 (train): _base/lr=0.0197 | _base/momentum=0.9000 | _timers/_fps=4.1994 | _timers/batch_time=0.4764 | _timers/data_time=0.0006 | _timers/model_time=0.4758 | f1_score=0.9633 | loss=0.0739 | loss_dist=0.0525 | loss_mean=0.0214\n",
      "28/100 * Epoch 28 (valid): _base/lr=0.0197 | _base/momentum=0.9000 | _timers/_fps=5.5345 | _timers/batch_time=0.3619 | _timers/data_time=0.0005 | _timers/model_time=0.3614 | f1_score=0.9618 | loss=0.0612 | loss_dist=0.0399 | loss_mean=0.0213\n",
      "[2019-11-30 08:09:29,048] \n",
      "29/100 * Epoch 29 (train): _base/lr=0.0197 | _base/momentum=0.9000 | _timers/_fps=4.2231 | _timers/batch_time=0.4740 | _timers/data_time=0.0006 | _timers/model_time=0.4733 | f1_score=0.9618 | loss=0.0613 | loss_dist=0.0399 | loss_mean=0.0214\n",
      "29/100 * Epoch 29 (valid): _base/lr=0.0197 | _base/momentum=0.9000 | _timers/_fps=5.5390 | _timers/batch_time=0.3616 | _timers/data_time=0.0005 | _timers/model_time=0.3610 | f1_score=0.9618 | loss=0.0614 | loss_dist=0.0399 | loss_mean=0.0215\n",
      "[2019-11-30 08:09:35,816] \n",
      "30/100 * Epoch 30 (train): _base/lr=0.0197 | _base/momentum=0.9000 | _timers/_fps=4.2234 | _timers/batch_time=0.4740 | _timers/data_time=0.0006 | _timers/model_time=0.4733 | f1_score=0.9484 | loss=0.0362 | loss_dist=0.0146 | loss_mean=0.0217\n",
      "30/100 * Epoch 30 (valid): _base/lr=0.0197 | _base/momentum=0.9000 | _timers/_fps=5.5350 | _timers/batch_time=0.3618 | _timers/data_time=0.0005 | _timers/model_time=0.3613 | f1_score=0.9442 | loss=0.0276 | loss_dist=0.0063 | loss_mean=0.0213\n",
      "[2019-11-30 08:09:42,585] \n",
      "31/100 * Epoch 31 (train): _base/lr=0.0197 | _base/momentum=0.9000 | _timers/_fps=4.2241 | _timers/batch_time=0.4739 | _timers/data_time=0.0006 | _timers/model_time=0.4733 | f1_score=0.9442 | loss=0.0276 | loss_dist=0.0063 | loss_mean=0.0213\n",
      "31/100 * Epoch 31 (valid): _base/lr=0.0197 | _base/momentum=0.9000 | _timers/_fps=5.5289 | _timers/batch_time=0.3623 | _timers/data_time=0.0005 | _timers/model_time=0.3618 | f1_score=0.9442 | loss=0.0274 | loss_dist=0.0063 | loss_mean=0.0211\n",
      "[2019-11-30 08:09:49,370] \n",
      "32/100 * Epoch 32 (train): _base/lr=0.0197 | _base/momentum=0.9000 | _timers/_fps=4.2249 | _timers/batch_time=0.4738 | _timers/data_time=0.0006 | _timers/model_time=0.4732 | f1_score=0.9428 | loss=0.0265 | loss_dist=0.0057 | loss_mean=0.0208\n",
      "32/100 * Epoch 32 (valid): _base/lr=0.0197 | _base/momentum=0.9000 | _timers/_fps=5.4959 | _timers/batch_time=0.3648 | _timers/data_time=0.0005 | _timers/model_time=0.3642 | f1_score=0.9424 | loss=0.0264 | loss_dist=0.0056 | loss_mean=0.0208\n",
      "[2019-11-30 08:09:56,159] \n",
      "33/100 * Epoch 33 (train): _base/lr=0.0197 | _base/momentum=0.9000 | _timers/_fps=4.2158 | _timers/batch_time=0.4748 | _timers/data_time=0.0006 | _timers/model_time=0.4742 | f1_score=0.9424 | loss=0.0264 | loss_dist=0.0056 | loss_mean=0.0208\n",
      "33/100 * Epoch 33 (valid): _base/lr=0.0197 | _base/momentum=0.9000 | _timers/_fps=5.5209 | _timers/batch_time=0.3628 | _timers/data_time=0.0005 | _timers/model_time=0.3623 | f1_score=0.9424 | loss=0.0262 | loss_dist=0.0056 | loss_mean=0.0206\n",
      "[2019-11-30 08:10:02,947] \n",
      "34/100 * Epoch 34 (train): _base/lr=0.0197 | _base/momentum=0.9000 | _timers/_fps=4.2262 | _timers/batch_time=0.4737 | _timers/data_time=0.0006 | _timers/model_time=0.4731 | f1_score=0.9424 | loss=0.0263 | loss_dist=0.0056 | loss_mean=0.0207\n",
      "34/100 * Epoch 34 (valid): _base/lr=0.0197 | _base/momentum=0.9000 | _timers/_fps=5.4877 | _timers/batch_time=0.3652 | _timers/data_time=0.0005 | _timers/model_time=0.3646 | f1_score=0.9439 | loss=0.0270 | loss_dist=0.0061 | loss_mean=0.0210\n"
     ]
    },
    {
     "name": "stdout",
     "output_type": "stream",
     "text": [
      "[2019-11-30 08:10:09,729] \n",
      "35/100 * Epoch 35 (train): _base/lr=0.0197 | _base/momentum=0.9000 | _timers/_fps=4.2128 | _timers/batch_time=0.4752 | _timers/data_time=0.0006 | _timers/model_time=0.4746 | f1_score=0.9439 | loss=0.0268 | loss_dist=0.0061 | loss_mean=0.0207\n",
      "35/100 * Epoch 35 (valid): _base/lr=0.0197 | _base/momentum=0.9000 | _timers/_fps=5.5101 | _timers/batch_time=0.3635 | _timers/data_time=0.0005 | _timers/model_time=0.3630 | f1_score=0.9439 | loss=0.0263 | loss_dist=0.0061 | loss_mean=0.0203\n",
      "[2019-11-30 08:10:16,506] \n",
      "36/100 * Epoch 36 (train): _base/lr=0.0197 | _base/momentum=0.9000 | _timers/_fps=4.2232 | _timers/batch_time=0.4739 | _timers/data_time=0.0006 | _timers/model_time=0.4733 | f1_score=0.9439 | loss=0.0263 | loss_dist=0.0061 | loss_mean=0.0202\n",
      "36/100 * Epoch 36 (valid): _base/lr=0.0197 | _base/momentum=0.9000 | _timers/_fps=5.5063 | _timers/batch_time=0.3639 | _timers/data_time=0.0005 | _timers/model_time=0.3634 | f1_score=0.9439 | loss=0.0262 | loss_dist=0.0061 | loss_mean=0.0201\n",
      "[2019-11-30 08:10:23,276] \n",
      "37/100 * Epoch 37 (train): _base/lr=0.0197 | _base/momentum=0.9000 | _timers/_fps=4.2353 | _timers/batch_time=0.4726 | _timers/data_time=0.0006 | _timers/model_time=0.4719 | f1_score=0.9439 | loss=0.0260 | loss_dist=0.0061 | loss_mean=0.0199\n",
      "37/100 * Epoch 37 (valid): _base/lr=0.0197 | _base/momentum=0.9000 | _timers/_fps=5.5148 | _timers/batch_time=0.3631 | _timers/data_time=0.0005 | _timers/model_time=0.3626 | f1_score=0.9439 | loss=0.0257 | loss_dist=0.0061 | loss_mean=0.0196\n",
      "[2019-11-30 08:10:30,025] \n",
      "38/100 * Epoch 38 (train): _base/lr=0.0197 | _base/momentum=0.9000 | _timers/_fps=4.2256 | _timers/batch_time=0.4737 | _timers/data_time=0.0006 | _timers/model_time=0.4731 | f1_score=0.9439 | loss=0.0257 | loss_dist=0.0061 | loss_mean=0.0196\n",
      "38/100 * Epoch 38 (valid): _base/lr=0.0197 | _base/momentum=0.9000 | _timers/_fps=5.5265 | _timers/batch_time=0.3624 | _timers/data_time=0.0005 | _timers/model_time=0.3619 | f1_score=0.9439 | loss=0.0257 | loss_dist=0.0061 | loss_mean=0.0196\n",
      "[2019-11-30 08:10:36,811] \n",
      "39/100 * Epoch 39 (train): _base/lr=0.0197 | _base/momentum=0.9000 | _timers/_fps=4.2188 | _timers/batch_time=0.4745 | _timers/data_time=0.0006 | _timers/model_time=0.4739 | f1_score=0.9439 | loss=0.0257 | loss_dist=0.0061 | loss_mean=0.0196\n",
      "39/100 * Epoch 39 (valid): _base/lr=0.0197 | _base/momentum=0.9000 | _timers/_fps=5.4815 | _timers/batch_time=0.3654 | _timers/data_time=0.0005 | _timers/model_time=0.3648 | f1_score=0.9439 | loss=0.0255 | loss_dist=0.0061 | loss_mean=0.0194\n",
      "[2019-11-30 08:10:43,602] \n",
      "40/100 * Epoch 40 (train): _base/lr=0.0197 | _base/momentum=0.9000 | _timers/_fps=4.2325 | _timers/batch_time=0.4729 | _timers/data_time=0.0006 | _timers/model_time=0.4723 | f1_score=0.9439 | loss=0.0254 | loss_dist=0.0061 | loss_mean=0.0193\n",
      "40/100 * Epoch 40 (valid): _base/lr=0.0197 | _base/momentum=0.9000 | _timers/_fps=5.4983 | _timers/batch_time=0.3644 | _timers/data_time=0.0005 | _timers/model_time=0.3638 | f1_score=0.9439 | loss=0.0252 | loss_dist=0.0061 | loss_mean=0.0191\n",
      "[2019-11-30 08:10:50,378] \n",
      "41/100 * Epoch 41 (train): _base/lr=0.0197 | _base/momentum=0.9000 | _timers/_fps=4.2312 | _timers/batch_time=0.4731 | _timers/data_time=0.0006 | _timers/model_time=0.4725 | f1_score=0.9439 | loss=0.0252 | loss_dist=0.0061 | loss_mean=0.0191\n",
      "41/100 * Epoch 41 (valid): _base/lr=0.0197 | _base/momentum=0.9000 | _timers/_fps=5.5143 | _timers/batch_time=0.3632 | _timers/data_time=0.0005 | _timers/model_time=0.3627 | f1_score=0.9439 | loss=0.0248 | loss_dist=0.0061 | loss_mean=0.0188\n",
      "[2019-11-30 08:10:57,151] \n",
      "42/100 * Epoch 42 (train): _base/lr=0.0197 | _base/momentum=0.9000 | _timers/_fps=4.2238 | _timers/batch_time=0.4739 | _timers/data_time=0.0006 | _timers/model_time=0.4733 | f1_score=0.9439 | loss=0.0246 | loss_dist=0.0061 | loss_mean=0.0185\n",
      "42/100 * Epoch 42 (valid): _base/lr=0.0197 | _base/momentum=0.9000 | _timers/_fps=5.4784 | _timers/batch_time=0.3659 | _timers/data_time=0.0005 | _timers/model_time=0.3654 | f1_score=0.9439 | loss=0.0243 | loss_dist=0.0061 | loss_mean=0.0183\n",
      "[2019-11-30 08:11:03,927] \n",
      "43/100 * Epoch 43 (train): _base/lr=0.0197 | _base/momentum=0.9000 | _timers/_fps=4.2137 | _timers/batch_time=0.4751 | _timers/data_time=0.0006 | _timers/model_time=0.4745 | f1_score=0.9053 | loss=0.2234 | loss_dist=0.2054 | loss_mean=0.0179\n",
      "43/100 * Epoch 43 (valid): _base/lr=0.0197 | _base/momentum=0.9000 | _timers/_fps=5.4963 | _timers/batch_time=0.3645 | _timers/data_time=0.0006 | _timers/model_time=0.3640 | f1_score=0.8924 | loss=0.2897 | loss_dist=0.2719 | loss_mean=0.0178\n",
      "[2019-11-30 08:11:10,688] \n",
      "44/100 * Epoch 44 (train): _base/lr=0.0197 | _base/momentum=0.9000 | _timers/_fps=4.2201 | _timers/batch_time=0.4744 | _timers/data_time=0.0006 | _timers/model_time=0.4737 | f1_score=0.8879 | loss=0.2991 | loss_dist=0.2814 | loss_mean=0.0177\n",
      "44/100 * Epoch 44 (valid): _base/lr=0.0197 | _base/momentum=0.9000 | _timers/_fps=5.5128 | _timers/batch_time=0.3633 | _timers/data_time=0.0005 | _timers/model_time=0.3627 | f1_score=0.8744 | loss=0.3273 | loss_dist=0.3098 | loss_mean=0.0175\n",
      "[2019-11-30 08:11:17,455] \n",
      "45/100 * Epoch 45 (train): _base/lr=0.0197 | _base/momentum=0.9000 | _timers/_fps=4.2253 | _timers/batch_time=0.4737 | _timers/data_time=0.0006 | _timers/model_time=0.4731 | f1_score=0.8744 | loss=0.3273 | loss_dist=0.3098 | loss_mean=0.0175\n",
      "45/100 * Epoch 45 (valid): _base/lr=0.0197 | _base/momentum=0.9000 | _timers/_fps=5.5142 | _timers/batch_time=0.3633 | _timers/data_time=0.0005 | _timers/model_time=0.3627 | f1_score=0.8744 | loss=0.3273 | loss_dist=0.3098 | loss_mean=0.0175\n",
      "[2019-11-30 08:11:24,231] \n",
      "46/100 * Epoch 46 (train): _base/lr=0.0197 | _base/momentum=0.9000 | _timers/_fps=4.2212 | _timers/batch_time=0.4743 | _timers/data_time=0.0006 | _timers/model_time=0.4736 | f1_score=0.8744 | loss=0.3273 | loss_dist=0.3098 | loss_mean=0.0174\n",
      "46/100 * Epoch 46 (valid): _base/lr=0.0197 | _base/momentum=0.9000 | _timers/_fps=5.5038 | _timers/batch_time=0.3639 | _timers/data_time=0.0005 | _timers/model_time=0.3634 | f1_score=0.8744 | loss=0.3272 | loss_dist=0.3098 | loss_mean=0.0173\n",
      "[2019-11-30 08:11:31,000] \n",
      "47/100 * Epoch 47 (train): _base/lr=0.0197 | _base/momentum=0.9000 | _timers/_fps=4.2178 | _timers/batch_time=0.4745 | _timers/data_time=0.0007 | _timers/model_time=0.4738 | f1_score=0.8744 | loss=0.3271 | loss_dist=0.3098 | loss_mean=0.0172\n",
      "47/100 * Epoch 47 (valid): _base/lr=0.0197 | _base/momentum=0.9000 | _timers/_fps=5.4987 | _timers/batch_time=0.3642 | _timers/data_time=0.0005 | _timers/model_time=0.3637 | f1_score=0.8744 | loss=0.3270 | loss_dist=0.3098 | loss_mean=0.0172\n",
      "[2019-11-30 08:11:37,802] \n",
      "48/100 * Epoch 48 (train): _base/lr=0.0177 | _base/momentum=0.9000 | _timers/_fps=4.2043 | _timers/batch_time=0.4763 | _timers/data_time=0.0007 | _timers/model_time=0.4756 | f1_score=0.8744 | loss=0.3270 | loss_dist=0.3098 | loss_mean=0.0172\n",
      "48/100 * Epoch 48 (valid): _base/lr=0.0177 | _base/momentum=0.9000 | _timers/_fps=5.4844 | _timers/batch_time=0.3652 | _timers/data_time=0.0005 | _timers/model_time=0.3646 | f1_score=0.8744 | loss=0.3270 | loss_dist=0.3098 | loss_mean=0.0172\n",
      "[2019-11-30 08:11:44,605] \n",
      "49/100 * Epoch 49 (train): _base/lr=0.0177 | _base/momentum=0.9000 | _timers/_fps=4.2025 | _timers/batch_time=0.4763 | _timers/data_time=0.0007 | _timers/model_time=0.4756 | f1_score=0.8892 | loss=0.2503 | loss_dist=0.2331 | loss_mean=0.0172\n",
      "49/100 * Epoch 49 (valid): _base/lr=0.0177 | _base/momentum=0.9000 | _timers/_fps=5.4917 | _timers/batch_time=0.3647 | _timers/data_time=0.0005 | _timers/model_time=0.3642 | f1_score=0.9335 | loss=0.0203 | loss_dist=0.0030 | loss_mean=0.0173\n",
      "[2019-11-30 08:11:51,371] \n",
      "50/100 * Epoch 50 (train): _base/lr=0.0177 | _base/momentum=0.9000 | _timers/_fps=4.2360 | _timers/batch_time=0.4725 | _timers/data_time=0.0006 | _timers/model_time=0.4719 | f1_score=0.9335 | loss=0.0202 | loss_dist=0.0030 | loss_mean=0.0172\n",
      "50/100 * Epoch 50 (valid): _base/lr=0.0177 | _base/momentum=0.9000 | _timers/_fps=5.5133 | _timers/batch_time=0.3634 | _timers/data_time=0.0005 | _timers/model_time=0.3629 | f1_score=0.9335 | loss=0.0201 | loss_dist=0.0030 | loss_mean=0.0172\n",
      "[2019-11-30 08:11:58,165] \n",
      "51/100 * Epoch 51 (train): _base/lr=0.0177 | _base/momentum=0.9000 | _timers/_fps=4.2237 | _timers/batch_time=0.4739 | _timers/data_time=0.0006 | _timers/model_time=0.4733 | f1_score=0.9335 | loss=0.0201 | loss_dist=0.0030 | loss_mean=0.0172\n",
      "51/100 * Epoch 51 (valid): _base/lr=0.0177 | _base/momentum=0.9000 | _timers/_fps=5.5051 | _timers/batch_time=0.3639 | _timers/data_time=0.0005 | _timers/model_time=0.3634 | f1_score=0.9335 | loss=0.0201 | loss_dist=0.0030 | loss_mean=0.0172\n"
     ]
    },
    {
     "name": "stdout",
     "output_type": "stream",
     "text": [
      "[2019-11-30 08:12:04,947] \n",
      "52/100 * Epoch 52 (train): _base/lr=0.0177 | _base/momentum=0.9000 | _timers/_fps=4.2128 | _timers/batch_time=0.4752 | _timers/data_time=0.0007 | _timers/model_time=0.4744 | f1_score=0.9335 | loss=0.0201 | loss_dist=0.0030 | loss_mean=0.0171\n",
      "52/100 * Epoch 52 (valid): _base/lr=0.0177 | _base/momentum=0.9000 | _timers/_fps=5.5106 | _timers/batch_time=0.3635 | _timers/data_time=0.0005 | _timers/model_time=0.3630 | f1_score=0.9335 | loss=0.0200 | loss_dist=0.0030 | loss_mean=0.0170\n",
      "[2019-11-30 08:12:11,737] \n",
      "53/100 * Epoch 53 (train): _base/lr=0.0177 | _base/momentum=0.9000 | _timers/_fps=4.2166 | _timers/batch_time=0.4748 | _timers/data_time=0.0007 | _timers/model_time=0.4741 | f1_score=0.9335 | loss=0.0199 | loss_dist=0.0030 | loss_mean=0.0170\n",
      "53/100 * Epoch 53 (valid): _base/lr=0.0177 | _base/momentum=0.9000 | _timers/_fps=5.5193 | _timers/batch_time=0.3628 | _timers/data_time=0.0005 | _timers/model_time=0.3623 | f1_score=0.9335 | loss=0.0198 | loss_dist=0.0030 | loss_mean=0.0168\n",
      "[2019-11-30 08:12:18,508] \n",
      "54/100 * Epoch 54 (train): _base/lr=0.0177 | _base/momentum=0.9000 | _timers/_fps=4.2150 | _timers/batch_time=0.4749 | _timers/data_time=0.0007 | _timers/model_time=0.4742 | f1_score=0.9335 | loss=0.0198 | loss_dist=0.0030 | loss_mean=0.0168\n",
      "54/100 * Epoch 54 (valid): _base/lr=0.0177 | _base/momentum=0.9000 | _timers/_fps=5.5249 | _timers/batch_time=0.3625 | _timers/data_time=0.0005 | _timers/model_time=0.3620 | f1_score=0.9335 | loss=0.0198 | loss_dist=0.0030 | loss_mean=0.0168\n",
      "[2019-11-30 08:12:25,267] \n",
      "55/100 * Epoch 55 (train): _base/lr=0.0177 | _base/momentum=0.9000 | _timers/_fps=4.2256 | _timers/batch_time=0.4737 | _timers/data_time=0.0006 | _timers/model_time=0.4730 | f1_score=0.9335 | loss=0.0198 | loss_dist=0.0030 | loss_mean=0.0168\n",
      "55/100 * Epoch 55 (valid): _base/lr=0.0177 | _base/momentum=0.9000 | _timers/_fps=5.5255 | _timers/batch_time=0.3625 | _timers/data_time=0.0005 | _timers/model_time=0.3620 | f1_score=0.9335 | loss=0.0198 | loss_dist=0.0030 | loss_mean=0.0168\n",
      "[2019-11-30 08:12:32,022] \n",
      "56/100 * Epoch 56 (train): _base/lr=0.0177 | _base/momentum=0.9000 | _timers/_fps=4.2334 | _timers/batch_time=0.4729 | _timers/data_time=0.0006 | _timers/model_time=0.4722 | f1_score=0.9335 | loss=0.0198 | loss_dist=0.0030 | loss_mean=0.0168\n",
      "56/100 * Epoch 56 (valid): _base/lr=0.0177 | _base/momentum=0.9000 | _timers/_fps=5.5101 | _timers/batch_time=0.3635 | _timers/data_time=0.0005 | _timers/model_time=0.3629 | f1_score=0.9335 | loss=0.0197 | loss_dist=0.0030 | loss_mean=0.0167\n",
      "[2019-11-30 08:12:38,810] \n",
      "57/100 * Epoch 57 (train): _base/lr=0.0177 | _base/momentum=0.9000 | _timers/_fps=4.2306 | _timers/batch_time=0.4732 | _timers/data_time=0.0006 | _timers/model_time=0.4725 | f1_score=0.9335 | loss=0.0196 | loss_dist=0.0030 | loss_mean=0.0166\n",
      "57/100 * Epoch 57 (valid): _base/lr=0.0177 | _base/momentum=0.9000 | _timers/_fps=5.5093 | _timers/batch_time=0.3636 | _timers/data_time=0.0005 | _timers/model_time=0.3631 | f1_score=0.9335 | loss=0.0195 | loss_dist=0.0030 | loss_mean=0.0165\n",
      "[2019-11-30 08:12:45,563] \n",
      "58/100 * Epoch 58 (train): _base/lr=0.0177 | _base/momentum=0.9000 | _timers/_fps=4.2363 | _timers/batch_time=0.4726 | _timers/data_time=0.0006 | _timers/model_time=0.4719 | f1_score=0.9335 | loss=0.0195 | loss_dist=0.0030 | loss_mean=0.0165\n",
      "58/100 * Epoch 58 (valid): _base/lr=0.0177 | _base/momentum=0.9000 | _timers/_fps=5.5242 | _timers/batch_time=0.3626 | _timers/data_time=0.0005 | _timers/model_time=0.3620 | f1_score=0.9335 | loss=0.0194 | loss_dist=0.0030 | loss_mean=0.0164\n",
      "[2019-11-30 08:12:52,348] \n",
      "59/100 * Epoch 59 (train): _base/lr=0.0177 | _base/momentum=0.9000 | _timers/_fps=4.2125 | _timers/batch_time=0.4752 | _timers/data_time=0.0006 | _timers/model_time=0.4745 | f1_score=0.9335 | loss=0.0193 | loss_dist=0.0030 | loss_mean=0.0163\n",
      "59/100 * Epoch 59 (valid): _base/lr=0.0177 | _base/momentum=0.9000 | _timers/_fps=5.4833 | _timers/batch_time=0.3653 | _timers/data_time=0.0005 | _timers/model_time=0.3647 | f1_score=0.9335 | loss=0.0192 | loss_dist=0.0030 | loss_mean=0.0162\n",
      "[2019-11-30 08:12:59,163] \n",
      "60/100 * Epoch 60 (train): _base/lr=0.0177 | _base/momentum=0.9000 | _timers/_fps=4.1961 | _timers/batch_time=0.4770 | _timers/data_time=0.0006 | _timers/model_time=0.4764 | f1_score=0.9335 | loss=0.0192 | loss_dist=0.0030 | loss_mean=0.0162\n",
      "60/100 * Epoch 60 (valid): _base/lr=0.0177 | _base/momentum=0.9000 | _timers/_fps=5.4938 | _timers/batch_time=0.3647 | _timers/data_time=0.0005 | _timers/model_time=0.3641 | f1_score=0.9335 | loss=0.0192 | loss_dist=0.0030 | loss_mean=0.0162\n",
      "[2019-11-30 08:13:05,957] \n",
      "61/100 * Epoch 61 (train): _base/lr=0.0177 | _base/momentum=0.9000 | _timers/_fps=4.2030 | _timers/batch_time=0.4763 | _timers/data_time=0.0006 | _timers/model_time=0.4756 | f1_score=0.9335 | loss=0.0192 | loss_dist=0.0030 | loss_mean=0.0162\n",
      "61/100 * Epoch 61 (valid): _base/lr=0.0177 | _base/momentum=0.9000 | _timers/_fps=5.4979 | _timers/batch_time=0.3642 | _timers/data_time=0.0005 | _timers/model_time=0.3637 | f1_score=0.9335 | loss=0.0189 | loss_dist=0.0030 | loss_mean=0.0159\n",
      "[2019-11-30 08:13:12,736] \n",
      "62/100 * Epoch 62 (train): _base/lr=0.0177 | _base/momentum=0.9000 | _timers/_fps=4.2203 | _timers/batch_time=0.4743 | _timers/data_time=0.0006 | _timers/model_time=0.4736 | f1_score=0.9335 | loss=0.0189 | loss_dist=0.0030 | loss_mean=0.0159\n",
      "62/100 * Epoch 62 (valid): _base/lr=0.0177 | _base/momentum=0.9000 | _timers/_fps=5.4849 | _timers/batch_time=0.3651 | _timers/data_time=0.0005 | _timers/model_time=0.3645 | f1_score=0.9335 | loss=0.0189 | loss_dist=0.0030 | loss_mean=0.0159\n",
      "[2019-11-30 08:13:19,527] \n",
      "63/100 * Epoch 63 (train): _base/lr=0.0177 | _base/momentum=0.9000 | _timers/_fps=4.2270 | _timers/batch_time=0.4734 | _timers/data_time=0.0006 | _timers/model_time=0.4727 | f1_score=0.9335 | loss=0.0189 | loss_dist=0.0030 | loss_mean=0.0159\n",
      "63/100 * Epoch 63 (valid): _base/lr=0.0177 | _base/momentum=0.9000 | _timers/_fps=5.4831 | _timers/batch_time=0.3655 | _timers/data_time=0.0005 | _timers/model_time=0.3649 | f1_score=0.9335 | loss=0.0188 | loss_dist=0.0030 | loss_mean=0.0158\n",
      "[2019-11-30 08:13:26,286] \n",
      "64/100 * Epoch 64 (train): _base/lr=0.0177 | _base/momentum=0.9000 | _timers/_fps=4.2308 | _timers/batch_time=0.4731 | _timers/data_time=0.0006 | _timers/model_time=0.4725 | f1_score=0.9335 | loss=0.0188 | loss_dist=0.0030 | loss_mean=0.0158\n",
      "64/100 * Epoch 64 (valid): _base/lr=0.0177 | _base/momentum=0.9000 | _timers/_fps=5.5183 | _timers/batch_time=0.3630 | _timers/data_time=0.0005 | _timers/model_time=0.3624 | f1_score=0.9335 | loss=0.0188 | loss_dist=0.0030 | loss_mean=0.0158\n",
      "[2019-11-30 08:13:33,074] \n",
      "65/100 * Epoch 65 (train): _base/lr=0.0177 | _base/momentum=0.9000 | _timers/_fps=4.2171 | _timers/batch_time=0.4747 | _timers/data_time=0.0007 | _timers/model_time=0.4740 | f1_score=0.9335 | loss=0.0188 | loss_dist=0.0030 | loss_mean=0.0158\n",
      "65/100 * Epoch 65 (valid): _base/lr=0.0177 | _base/momentum=0.9000 | _timers/_fps=5.4796 | _timers/batch_time=0.3655 | _timers/data_time=0.0005 | _timers/model_time=0.3650 | f1_score=0.9335 | loss=0.0188 | loss_dist=0.0030 | loss_mean=0.0158\n",
      "[2019-11-30 08:13:39,837] \n",
      "66/100 * Epoch 66 (train): _base/lr=0.0177 | _base/momentum=0.9000 | _timers/_fps=4.2252 | _timers/batch_time=0.4737 | _timers/data_time=0.0006 | _timers/model_time=0.4731 | f1_score=0.9335 | loss=0.0188 | loss_dist=0.0030 | loss_mean=0.0158\n",
      "66/100 * Epoch 66 (valid): _base/lr=0.0177 | _base/momentum=0.9000 | _timers/_fps=5.5313 | _timers/batch_time=0.3622 | _timers/data_time=0.0005 | _timers/model_time=0.3617 | f1_score=0.9335 | loss=0.0188 | loss_dist=0.0030 | loss_mean=0.0158\n",
      "[2019-11-30 08:13:46,591] \n",
      "67/100 * Epoch 67 (train): _base/lr=0.0177 | _base/momentum=0.9000 | _timers/_fps=4.2213 | _timers/batch_time=0.4740 | _timers/data_time=0.0006 | _timers/model_time=0.4734 | f1_score=0.9335 | loss=0.0188 | loss_dist=0.0030 | loss_mean=0.0158\n",
      "67/100 * Epoch 67 (valid): _base/lr=0.0177 | _base/momentum=0.9000 | _timers/_fps=5.5340 | _timers/batch_time=0.3620 | _timers/data_time=0.0005 | _timers/model_time=0.3614 | f1_score=0.9335 | loss=0.0188 | loss_dist=0.0030 | loss_mean=0.0158\n",
      "[2019-11-30 08:13:53,355] \n",
      "68/100 * Epoch 68 (train): _base/lr=0.0177 | _base/momentum=0.9000 | _timers/_fps=4.2289 | _timers/batch_time=0.4733 | _timers/data_time=0.0007 | _timers/model_time=0.4726 | f1_score=0.9335 | loss=0.0188 | loss_dist=0.0030 | loss_mean=0.0158\n",
      "68/100 * Epoch 68 (valid): _base/lr=0.0177 | _base/momentum=0.9000 | _timers/_fps=5.4771 | _timers/batch_time=0.3660 | _timers/data_time=0.0005 | _timers/model_time=0.3655 | f1_score=0.9335 | loss=0.0186 | loss_dist=0.0030 | loss_mean=0.0156\n"
     ]
    },
    {
     "name": "stdout",
     "output_type": "stream",
     "text": [
      "[2019-11-30 08:14:00,135] \n",
      "69/100 * Epoch 69 (train): _base/lr=0.0177 | _base/momentum=0.9000 | _timers/_fps=4.2316 | _timers/batch_time=0.4730 | _timers/data_time=0.0006 | _timers/model_time=0.4723 | f1_score=0.9335 | loss=0.0186 | loss_dist=0.0030 | loss_mean=0.0156\n",
      "69/100 * Epoch 69 (valid): _base/lr=0.0177 | _base/momentum=0.9000 | _timers/_fps=5.5080 | _timers/batch_time=0.3636 | _timers/data_time=0.0005 | _timers/model_time=0.3631 | f1_score=0.9335 | loss=0.0186 | loss_dist=0.0030 | loss_mean=0.0156\n",
      "[2019-11-30 08:14:06,908] \n",
      "70/100 * Epoch 70 (train): _base/lr=0.0177 | _base/momentum=0.9000 | _timers/_fps=4.2149 | _timers/batch_time=0.4749 | _timers/data_time=0.0007 | _timers/model_time=0.4742 | f1_score=0.9335 | loss=0.0186 | loss_dist=0.0030 | loss_mean=0.0156\n",
      "70/100 * Epoch 70 (valid): _base/lr=0.0177 | _base/momentum=0.9000 | _timers/_fps=5.5351 | _timers/batch_time=0.3619 | _timers/data_time=0.0005 | _timers/model_time=0.3613 | f1_score=0.9335 | loss=0.0186 | loss_dist=0.0030 | loss_mean=0.0156\n",
      "[2019-11-30 08:14:13,704] \n",
      "71/100 * Epoch 71 (train): _base/lr=0.0177 | _base/momentum=0.9000 | _timers/_fps=4.2316 | _timers/batch_time=0.4731 | _timers/data_time=0.0007 | _timers/model_time=0.4724 | f1_score=0.9335 | loss=0.0186 | loss_dist=0.0030 | loss_mean=0.0156\n",
      "71/100 * Epoch 71 (valid): _base/lr=0.0177 | _base/momentum=0.9000 | _timers/_fps=5.5271 | _timers/batch_time=0.3624 | _timers/data_time=0.0005 | _timers/model_time=0.3619 | f1_score=0.9335 | loss=0.0186 | loss_dist=0.0030 | loss_mean=0.0156\n",
      "[2019-11-30 08:14:20,455] \n",
      "72/100 * Epoch 72 (train): _base/lr=0.0177 | _base/momentum=0.9000 | _timers/_fps=4.2409 | _timers/batch_time=0.4720 | _timers/data_time=0.0007 | _timers/model_time=0.4712 | f1_score=0.9335 | loss=0.0186 | loss_dist=0.0030 | loss_mean=0.0156\n",
      "72/100 * Epoch 72 (valid): _base/lr=0.0177 | _base/momentum=0.9000 | _timers/_fps=5.5276 | _timers/batch_time=0.3624 | _timers/data_time=0.0005 | _timers/model_time=0.3618 | f1_score=0.9335 | loss=0.0186 | loss_dist=0.0030 | loss_mean=0.0156\n",
      "[2019-11-30 08:14:27,201] \n",
      "73/100 * Epoch 73 (train): _base/lr=0.0177 | _base/momentum=0.9000 | _timers/_fps=4.2398 | _timers/batch_time=0.4720 | _timers/data_time=0.0007 | _timers/model_time=0.4713 | f1_score=0.9335 | loss=0.0186 | loss_dist=0.0030 | loss_mean=0.0156\n",
      "73/100 * Epoch 73 (valid): _base/lr=0.0177 | _base/momentum=0.9000 | _timers/_fps=5.5305 | _timers/batch_time=0.3621 | _timers/data_time=0.0005 | _timers/model_time=0.3616 | f1_score=0.9335 | loss=0.0186 | loss_dist=0.0030 | loss_mean=0.0156\n",
      "[2019-11-30 08:14:33,970] \n",
      "74/100 * Epoch 74 (train): _base/lr=0.0159 | _base/momentum=0.9000 | _timers/_fps=4.2142 | _timers/batch_time=0.4751 | _timers/data_time=0.0006 | _timers/model_time=0.4744 | f1_score=0.9335 | loss=0.0186 | loss_dist=0.0030 | loss_mean=0.0156\n",
      "74/100 * Epoch 74 (valid): _base/lr=0.0159 | _base/momentum=0.9000 | _timers/_fps=5.4980 | _timers/batch_time=0.3642 | _timers/data_time=0.0005 | _timers/model_time=0.3636 | f1_score=0.9335 | loss=0.0185 | loss_dist=0.0030 | loss_mean=0.0155\n",
      "[2019-11-30 08:14:40,723] \n",
      "75/100 * Epoch 75 (train): _base/lr=0.0159 | _base/momentum=0.9000 | _timers/_fps=4.2411 | _timers/batch_time=0.4719 | _timers/data_time=0.0006 | _timers/model_time=0.4712 | f1_score=0.9335 | loss=0.0185 | loss_dist=0.0030 | loss_mean=0.0155\n",
      "75/100 * Epoch 75 (valid): _base/lr=0.0159 | _base/momentum=0.9000 | _timers/_fps=5.5151 | _timers/batch_time=0.3631 | _timers/data_time=0.0005 | _timers/model_time=0.3626 | f1_score=0.9335 | loss=0.0185 | loss_dist=0.0030 | loss_mean=0.0155\n",
      "[2019-11-30 08:14:47,468] \n",
      "76/100 * Epoch 76 (train): _base/lr=0.0159 | _base/momentum=0.9000 | _timers/_fps=4.2425 | _timers/batch_time=0.4717 | _timers/data_time=0.0006 | _timers/model_time=0.4711 | f1_score=0.9335 | loss=0.0185 | loss_dist=0.0030 | loss_mean=0.0155\n",
      "76/100 * Epoch 76 (valid): _base/lr=0.0159 | _base/momentum=0.9000 | _timers/_fps=5.5253 | _timers/batch_time=0.3624 | _timers/data_time=0.0005 | _timers/model_time=0.3619 | f1_score=0.9335 | loss=0.0183 | loss_dist=0.0030 | loss_mean=0.0153\n",
      "[2019-11-30 08:14:54,249] \n",
      "77/100 * Epoch 77 (train): _base/lr=0.0159 | _base/momentum=0.9000 | _timers/_fps=4.2141 | _timers/batch_time=0.4752 | _timers/data_time=0.0006 | _timers/model_time=0.4746 | f1_score=0.9335 | loss=0.0183 | loss_dist=0.0030 | loss_mean=0.0153\n",
      "77/100 * Epoch 77 (valid): _base/lr=0.0159 | _base/momentum=0.9000 | _timers/_fps=5.5052 | _timers/batch_time=0.3638 | _timers/data_time=0.0005 | _timers/model_time=0.3633 | f1_score=0.9335 | loss=0.0183 | loss_dist=0.0030 | loss_mean=0.0153\n",
      "[2019-11-30 08:15:01,013] \n",
      "78/100 * Epoch 78 (train): _base/lr=0.0159 | _base/momentum=0.9000 | _timers/_fps=4.2397 | _timers/batch_time=0.4720 | _timers/data_time=0.0005 | _timers/model_time=0.4715 | f1_score=0.9335 | loss=0.0183 | loss_dist=0.0030 | loss_mean=0.0153\n",
      "78/100 * Epoch 78 (valid): _base/lr=0.0159 | _base/momentum=0.9000 | _timers/_fps=5.5387 | _timers/batch_time=0.3616 | _timers/data_time=0.0005 | _timers/model_time=0.3611 | f1_score=0.9335 | loss=0.0182 | loss_dist=0.0030 | loss_mean=0.0152\n",
      "[2019-11-30 08:15:07,800] \n",
      "79/100 * Epoch 79 (train): _base/lr=0.0159 | _base/momentum=0.9000 | _timers/_fps=4.2158 | _timers/batch_time=0.4748 | _timers/data_time=0.0005 | _timers/model_time=0.4742 | f1_score=0.9335 | loss=0.0182 | loss_dist=0.0030 | loss_mean=0.0152\n",
      "79/100 * Epoch 79 (valid): _base/lr=0.0159 | _base/momentum=0.9000 | _timers/_fps=5.5139 | _timers/batch_time=0.3634 | _timers/data_time=0.0005 | _timers/model_time=0.3628 | f1_score=0.9335 | loss=0.0180 | loss_dist=0.0030 | loss_mean=0.0150\n",
      "[2019-11-30 08:15:14,586] \n",
      "80/100 * Epoch 80 (train): _base/lr=0.0159 | _base/momentum=0.9000 | _timers/_fps=4.2016 | _timers/batch_time=0.4765 | _timers/data_time=0.0006 | _timers/model_time=0.4758 | f1_score=0.9335 | loss=0.0180 | loss_dist=0.0030 | loss_mean=0.0150\n",
      "80/100 * Epoch 80 (valid): _base/lr=0.0159 | _base/momentum=0.9000 | _timers/_fps=5.5192 | _timers/batch_time=0.3629 | _timers/data_time=0.0005 | _timers/model_time=0.3623 | f1_score=0.9335 | loss=0.0179 | loss_dist=0.0030 | loss_mean=0.0149\n",
      "[2019-11-30 08:15:21,349] \n",
      "81/100 * Epoch 81 (train): _base/lr=0.0159 | _base/momentum=0.9000 | _timers/_fps=4.2389 | _timers/batch_time=0.4722 | _timers/data_time=0.0007 | _timers/model_time=0.4714 | f1_score=0.9335 | loss=0.0179 | loss_dist=0.0030 | loss_mean=0.0149\n",
      "81/100 * Epoch 81 (valid): _base/lr=0.0159 | _base/momentum=0.9000 | _timers/_fps=5.5278 | _timers/batch_time=0.3624 | _timers/data_time=0.0005 | _timers/model_time=0.3618 | f1_score=0.9335 | loss=0.0179 | loss_dist=0.0030 | loss_mean=0.0149\n",
      "[2019-11-30 08:15:28,120] \n",
      "82/100 * Epoch 82 (train): _base/lr=0.0159 | _base/momentum=0.9000 | _timers/_fps=4.2497 | _timers/batch_time=0.4710 | _timers/data_time=0.0007 | _timers/model_time=0.4702 | f1_score=0.9335 | loss=0.0178 | loss_dist=0.0030 | loss_mean=0.0148\n",
      "82/100 * Epoch 82 (valid): _base/lr=0.0159 | _base/momentum=0.9000 | _timers/_fps=5.5304 | _timers/batch_time=0.3621 | _timers/data_time=0.0005 | _timers/model_time=0.3615 | f1_score=0.9335 | loss=0.0177 | loss_dist=0.0030 | loss_mean=0.0147\n",
      "[2019-11-30 08:15:34,889] \n",
      "83/100 * Epoch 83 (train): _base/lr=0.0159 | _base/momentum=0.9000 | _timers/_fps=4.2317 | _timers/batch_time=0.4730 | _timers/data_time=0.0006 | _timers/model_time=0.4724 | f1_score=0.9335 | loss=0.0176 | loss_dist=0.0030 | loss_mean=0.0147\n",
      "83/100 * Epoch 83 (valid): _base/lr=0.0159 | _base/momentum=0.9000 | _timers/_fps=5.5282 | _timers/batch_time=0.3623 | _timers/data_time=0.0005 | _timers/model_time=0.3618 | f1_score=0.9335 | loss=0.0174 | loss_dist=0.0030 | loss_mean=0.0144\n",
      "[2019-11-30 08:15:41,656] \n",
      "84/100 * Epoch 84 (train): _base/lr=0.0159 | _base/momentum=0.9000 | _timers/_fps=4.2243 | _timers/batch_time=0.4739 | _timers/data_time=0.0007 | _timers/model_time=0.4732 | f1_score=0.9335 | loss=0.0174 | loss_dist=0.0030 | loss_mean=0.0144\n",
      "84/100 * Epoch 84 (valid): _base/lr=0.0159 | _base/momentum=0.9000 | _timers/_fps=5.5080 | _timers/batch_time=0.3639 | _timers/data_time=0.0005 | _timers/model_time=0.3634 | f1_score=0.9335 | loss=0.0174 | loss_dist=0.0030 | loss_mean=0.0144\n",
      "[2019-11-30 08:15:48,417] \n",
      "85/100 * Epoch 85 (train): _base/lr=0.0159 | _base/momentum=0.9000 | _timers/_fps=4.2364 | _timers/batch_time=0.4725 | _timers/data_time=0.0006 | _timers/model_time=0.4718 | f1_score=0.9335 | loss=0.0174 | loss_dist=0.0030 | loss_mean=0.0144\n",
      "85/100 * Epoch 85 (valid): _base/lr=0.0159 | _base/momentum=0.9000 | _timers/_fps=5.5249 | _timers/batch_time=0.3626 | _timers/data_time=0.0005 | _timers/model_time=0.3621 | f1_score=0.9335 | loss=0.0174 | loss_dist=0.0030 | loss_mean=0.0144\n"
     ]
    },
    {
     "name": "stdout",
     "output_type": "stream",
     "text": [
      "[2019-11-30 08:15:55,184] \n",
      "86/100 * Epoch 86 (train): _base/lr=0.0159 | _base/momentum=0.9000 | _timers/_fps=4.2216 | _timers/batch_time=0.4742 | _timers/data_time=0.0007 | _timers/model_time=0.4734 | f1_score=0.9335 | loss=0.0174 | loss_dist=0.0030 | loss_mean=0.0144\n",
      "86/100 * Epoch 86 (valid): _base/lr=0.0159 | _base/momentum=0.9000 | _timers/_fps=5.5182 | _timers/batch_time=0.3629 | _timers/data_time=0.0005 | _timers/model_time=0.3624 | f1_score=0.9335 | loss=0.0174 | loss_dist=0.0030 | loss_mean=0.0144\n",
      "[2019-11-30 08:16:01,986] \n",
      "87/100 * Epoch 87 (train): _base/lr=0.0159 | _base/momentum=0.9000 | _timers/_fps=4.2215 | _timers/batch_time=0.4742 | _timers/data_time=0.0007 | _timers/model_time=0.4735 | f1_score=0.9335 | loss=0.0174 | loss_dist=0.0030 | loss_mean=0.0144\n",
      "87/100 * Epoch 87 (valid): _base/lr=0.0159 | _base/momentum=0.9000 | _timers/_fps=5.4921 | _timers/batch_time=0.3648 | _timers/data_time=0.0005 | _timers/model_time=0.3642 | f1_score=0.9335 | loss=0.0174 | loss_dist=0.0030 | loss_mean=0.0144\n",
      "[2019-11-30 08:16:08,788] \n",
      "88/100 * Epoch 88 (train): _base/lr=0.0159 | _base/momentum=0.9000 | _timers/_fps=4.2066 | _timers/batch_time=0.4758 | _timers/data_time=0.0007 | _timers/model_time=0.4751 | f1_score=0.9335 | loss=0.0174 | loss_dist=0.0030 | loss_mean=0.0144\n",
      "88/100 * Epoch 88 (valid): _base/lr=0.0159 | _base/momentum=0.9000 | _timers/_fps=5.5090 | _timers/batch_time=0.3636 | _timers/data_time=0.0005 | _timers/model_time=0.3631 | f1_score=0.9335 | loss=0.0173 | loss_dist=0.0030 | loss_mean=0.0143\n",
      "[2019-11-30 08:16:15,572] \n",
      "89/100 * Epoch 89 (train): _base/lr=0.0159 | _base/momentum=0.9000 | _timers/_fps=4.2120 | _timers/batch_time=0.4752 | _timers/data_time=0.0007 | _timers/model_time=0.4745 | f1_score=0.9335 | loss=0.0173 | loss_dist=0.0030 | loss_mean=0.0143\n",
      "89/100 * Epoch 89 (valid): _base/lr=0.0159 | _base/momentum=0.9000 | _timers/_fps=5.5218 | _timers/batch_time=0.3628 | _timers/data_time=0.0005 | _timers/model_time=0.3623 | f1_score=0.9335 | loss=0.0173 | loss_dist=0.0030 | loss_mean=0.0143\n",
      "[2019-11-30 08:16:22,330] \n",
      "90/100 * Epoch 90 (train): _base/lr=0.0159 | _base/momentum=0.9000 | _timers/_fps=4.2623 | _timers/batch_time=0.4696 | _timers/data_time=0.0007 | _timers/model_time=0.4688 | f1_score=0.9335 | loss=0.0173 | loss_dist=0.0030 | loss_mean=0.0143\n",
      "90/100 * Epoch 90 (valid): _base/lr=0.0159 | _base/momentum=0.9000 | _timers/_fps=5.5606 | _timers/batch_time=0.3603 | _timers/data_time=0.0005 | _timers/model_time=0.3597 | f1_score=0.9335 | loss=0.0173 | loss_dist=0.0030 | loss_mean=0.0143\n",
      "[2019-11-30 08:16:29,069] \n",
      "91/100 * Epoch 91 (train): _base/lr=0.0159 | _base/momentum=0.9000 | _timers/_fps=4.2788 | _timers/batch_time=0.4678 | _timers/data_time=0.0006 | _timers/model_time=0.4672 | f1_score=0.9335 | loss=0.0173 | loss_dist=0.0030 | loss_mean=0.0143\n",
      "91/100 * Epoch 91 (valid): _base/lr=0.0159 | _base/momentum=0.9000 | _timers/_fps=5.5281 | _timers/batch_time=0.3624 | _timers/data_time=0.0005 | _timers/model_time=0.3619 | f1_score=0.9335 | loss=0.0173 | loss_dist=0.0030 | loss_mean=0.0143\n",
      "[2019-11-30 08:16:35,809] \n",
      "92/100 * Epoch 92 (train): _base/lr=0.0159 | _base/momentum=0.9000 | _timers/_fps=4.2585 | _timers/batch_time=0.4701 | _timers/data_time=0.0006 | _timers/model_time=0.4694 | f1_score=0.9335 | loss=0.0173 | loss_dist=0.0030 | loss_mean=0.0143\n",
      "92/100 * Epoch 92 (valid): _base/lr=0.0159 | _base/momentum=0.9000 | _timers/_fps=5.5639 | _timers/batch_time=0.3600 | _timers/data_time=0.0005 | _timers/model_time=0.3595 | f1_score=0.9335 | loss=0.0173 | loss_dist=0.0030 | loss_mean=0.0143\n",
      "[2019-11-30 08:16:42,546] \n",
      "93/100 * Epoch 93 (train): _base/lr=0.0159 | _base/momentum=0.9000 | _timers/_fps=4.2539 | _timers/batch_time=0.4705 | _timers/data_time=0.0006 | _timers/model_time=0.4699 | f1_score=0.9335 | loss=0.0172 | loss_dist=0.0030 | loss_mean=0.0143\n",
      "93/100 * Epoch 93 (valid): _base/lr=0.0159 | _base/momentum=0.9000 | _timers/_fps=5.5745 | _timers/batch_time=0.3594 | _timers/data_time=0.0005 | _timers/model_time=0.3589 | f1_score=0.9335 | loss=0.0171 | loss_dist=0.0030 | loss_mean=0.0141\n",
      "[2019-11-30 08:16:49,290] \n",
      "94/100 * Epoch 94 (train): _base/lr=0.0159 | _base/momentum=0.9000 | _timers/_fps=4.2741 | _timers/batch_time=0.4684 | _timers/data_time=0.0006 | _timers/model_time=0.4677 | f1_score=0.9385 | loss=0.0183 | loss_dist=0.0040 | loss_mean=0.0143\n",
      "94/100 * Epoch 94 (valid): _base/lr=0.0159 | _base/momentum=0.9000 | _timers/_fps=5.5319 | _timers/batch_time=0.3620 | _timers/data_time=0.0005 | _timers/model_time=0.3615 | f1_score=0.9402 | loss=0.0185 | loss_dist=0.0044 | loss_mean=0.0141\n",
      "[2019-11-30 08:16:56,055] \n",
      "95/100 * Epoch 95 (train): _base/lr=0.0159 | _base/momentum=0.9000 | _timers/_fps=4.2689 | _timers/batch_time=0.4690 | _timers/data_time=0.0007 | _timers/model_time=0.4682 | f1_score=0.9402 | loss=0.0185 | loss_dist=0.0044 | loss_mean=0.0141\n",
      "95/100 * Epoch 95 (valid): _base/lr=0.0159 | _base/momentum=0.9000 | _timers/_fps=5.5616 | _timers/batch_time=0.3604 | _timers/data_time=0.0005 | _timers/model_time=0.3599 | f1_score=0.9402 | loss=0.0185 | loss_dist=0.0044 | loss_mean=0.0141\n",
      "[2019-11-30 08:17:02,807] \n",
      "96/100 * Epoch 96 (train): _base/lr=0.0159 | _base/momentum=0.9000 | _timers/_fps=4.2570 | _timers/batch_time=0.4703 | _timers/data_time=0.0006 | _timers/model_time=0.4696 | f1_score=0.9402 | loss=0.0185 | loss_dist=0.0044 | loss_mean=0.0141\n",
      "96/100 * Epoch 96 (valid): _base/lr=0.0159 | _base/momentum=0.9000 | _timers/_fps=5.5339 | _timers/batch_time=0.3621 | _timers/data_time=0.0005 | _timers/model_time=0.3616 | f1_score=0.9402 | loss=0.0185 | loss_dist=0.0044 | loss_mean=0.0141\n",
      "[2019-11-30 08:17:09,568] \n",
      "97/100 * Epoch 97 (train): _base/lr=0.0159 | _base/momentum=0.9000 | _timers/_fps=4.2553 | _timers/batch_time=0.4704 | _timers/data_time=0.0006 | _timers/model_time=0.4698 | f1_score=0.9402 | loss=0.0185 | loss_dist=0.0044 | loss_mean=0.0141\n",
      "97/100 * Epoch 97 (valid): _base/lr=0.0159 | _base/momentum=0.9000 | _timers/_fps=5.5305 | _timers/batch_time=0.3624 | _timers/data_time=0.0005 | _timers/model_time=0.3619 | f1_score=0.9402 | loss=0.0185 | loss_dist=0.0044 | loss_mean=0.0141\n",
      "[2019-11-30 08:17:16,325] \n",
      "98/100 * Epoch 98 (train): _base/lr=0.0159 | _base/momentum=0.9000 | _timers/_fps=4.2570 | _timers/batch_time=0.4702 | _timers/data_time=0.0006 | _timers/model_time=0.4696 | f1_score=0.9402 | loss=0.0185 | loss_dist=0.0044 | loss_mean=0.0141\n",
      "98/100 * Epoch 98 (valid): _base/lr=0.0159 | _base/momentum=0.9000 | _timers/_fps=5.5711 | _timers/batch_time=0.3595 | _timers/data_time=0.0005 | _timers/model_time=0.3590 | f1_score=0.9402 | loss=0.0185 | loss_dist=0.0044 | loss_mean=0.0141\n",
      "[2019-11-30 08:17:23,074] \n",
      "99/100 * Epoch 99 (train): _base/lr=0.0143 | _base/momentum=0.9000 | _timers/_fps=4.2426 | _timers/batch_time=0.4719 | _timers/data_time=0.0007 | _timers/model_time=0.4712 | f1_score=0.9402 | loss=0.0185 | loss_dist=0.0044 | loss_mean=0.0141\n",
      "99/100 * Epoch 99 (valid): _base/lr=0.0143 | _base/momentum=0.9000 | _timers/_fps=5.5488 | _timers/batch_time=0.3610 | _timers/data_time=0.0004 | _timers/model_time=0.3605 | f1_score=0.9402 | loss=0.0184 | loss_dist=0.0044 | loss_mean=0.0140\n",
      "[2019-11-30 08:17:29,814] \n",
      "100/100 * Epoch 100 (train): _base/lr=0.0143 | _base/momentum=0.9000 | _timers/_fps=4.2572 | _timers/batch_time=0.4702 | _timers/data_time=0.0007 | _timers/model_time=0.4695 | f1_score=0.9402 | loss=0.0184 | loss_dist=0.0044 | loss_mean=0.0140\n",
      "100/100 * Epoch 100 (valid): _base/lr=0.0143 | _base/momentum=0.9000 | _timers/_fps=5.5901 | _timers/batch_time=0.3583 | _timers/data_time=0.0004 | _timers/model_time=0.3578 | f1_score=0.9402 | loss=0.0184 | loss_dist=0.0044 | loss_mean=0.0140\n",
      "Top best models:\n",
      "logs/exp5/checkpoints/train.93.pth\t0.0171\n",
      "logs/exp5/checkpoints/train.88.pth\t0.0173\n",
      "logs/exp5/checkpoints/train.89.pth\t0.0173\n"
     ]
    }
   ],
   "source": [
    "runner.train(\n",
    "    model=model_bin,\n",
    "    criterion=criterion,\n",
    "    scheduler=scheduler,\n",
    "    callbacks=[   \n",
    "               CriterionCallback(prefix=\"loss_dist\", input_key='target_dist', output_key='dist',\n",
    "                     criterion_key='mse', multiplier=0.5),\n",
    "               CriterionCallback(prefix=\"loss_mean\", input_key='target_mean', output_key='mean',\n",
    "                     criterion_key='mse', multiplier=0.5),\n",
    "        \n",
    "               CriterionAggregatorCallback(prefix=\"loss\",loss_keys=['loss_dist','loss_mean']),\n",
    "#                AUCCallback(num_classes=1, input_key='target_cls', output_key='cls'), \n",
    "                F1ScoreCallback(input_key='target_cls', output_key='cls'),\n",
    "               CheckpointCallback(save_n_best=3)\n",
    "                ],\n",
    "\n",
    "    optimizer=optimizer,\n",
    "    main_metric='loss',\n",
    "    minimize_metric=True,\n",
    "    loaders=loaders,\n",
    "    logdir=logdir,\n",
    "    num_epochs=num_epochs,\n",
    "#     fp16={\"opt_level\": \"O1\"},\n",
    "    verbose=False\n",
    ")"
   ]
  },
  {
   "cell_type": "code",
   "execution_count": null,
   "metadata": {},
   "outputs": [],
   "source": []
  },
  {
   "cell_type": "code",
   "execution_count": null,
   "metadata": {},
   "outputs": [],
   "source": []
  },
  {
   "cell_type": "code",
   "execution_count": null,
   "metadata": {},
   "outputs": [],
   "source": []
  },
  {
   "cell_type": "code",
   "execution_count": null,
   "metadata": {},
   "outputs": [],
   "source": []
  }
 ],
 "metadata": {
  "kernelspec": {
   "display_name": "pytosha",
   "language": "python",
   "name": "pytosha"
  },
  "language_info": {
   "codemirror_mode": {
    "name": "ipython",
    "version": 3
   },
   "file_extension": ".py",
   "mimetype": "text/x-python",
   "name": "python",
   "nbconvert_exporter": "python",
   "pygments_lexer": "ipython3",
   "version": "3.6.7"
  }
 },
 "nbformat": 4,
 "nbformat_minor": 2
}
